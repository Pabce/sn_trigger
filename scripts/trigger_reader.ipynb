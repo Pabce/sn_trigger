{
 "cells": [
  {
   "cell_type": "code",
   "execution_count": 5,
   "id": "343cee20",
   "metadata": {},
   "outputs": [],
   "source": [
    "import hitting as hp\n",
    "import numpy as np\n",
    "import matplotlib.pyplot as plt\n",
    "import pickle\n",
    "from scipy.optimize import curve_fit\n",
    "from scipy import stats\n",
    "from scipy.interpolate import interp1d\n",
    "import seaborn as sns\n",
    "# Apply the default theme\n",
    "sns.set_theme()\n",
    "\n",
    "I_10KPC = {\"LIVERMORE\": 2684, \"GKVM\": 3295, \"GARCHING\": 882}"
   ]
  },
  {
   "cell_type": "code",
   "execution_count": 6,
   "id": "6adb7b7b",
   "metadata": {},
   "outputs": [
    {
     "name": "stdout",
     "output_type": "stream",
     "text": [
      "(0.02, (0.17, 0.05, 160, 25000, 20000, 30000, 12, 0.8), 10)\n"
     ]
    }
   ],
   "source": [
    "dists_2, _, all_te_2, _ = pickle.load(open(\"../saved_pickles/kys_23.0_4.95\", \"rb\"))\n",
    "dists_3, _, all_te_3, _ = pickle.load(open(\"../saved_pickles/kys_14.4_2.8\", \"rb\"))\n",
    "dists_4, _, all_te_4, _ = pickle.load(open(\"../saved_pickles/kys_14.4_2.8\", \"rb\"))\n",
    "\n",
    "dists_2LA, _, all_te_2LA, _ = pickle.load(open(\"../saved_pickles/kys_23.0_4.95_LA\", \"rb\"))\n",
    "dists_3LA, _, all_te_3LA, _ = pickle.load(open(\"../saved_pickles/kys_14.4_2.8_LA\", \"rb\"))\n",
    "\n",
    "params = pickle.load(open(\"../saved_pickles/pys_14.4_2.81_LA\", \"rb\"))\n",
    "print(params)"
   ]
  },
  {
   "cell_type": "code",
   "execution_count": 7,
   "id": "7e04664b",
   "metadata": {},
   "outputs": [
    {
     "data": {
      "application/vnd.jupyter.widget-view+json": {
       "model_id": "83d8e8efa6d74b96a77413153ef8df07",
       "version_major": 2,
       "version_minor": 0
      },
      "text/plain": [
       "Canvas(toolbar=Toolbar(toolitems=[('Home', 'Reset original view', 'home', 'home'), ('Back', 'Back to previous …"
      ]
     },
     "metadata": {},
     "output_type": "display_data"
    },
    {
     "name": "stdout",
     "output_type": "stream",
     "text": [
      "0.2330298912577523\n"
     ]
    }
   ],
   "source": [
    "%matplotlib widget\n",
    "plt.figure()\n",
    "gar_dists = np.array(dists_4) * np.sqrt(I_10KPC[\"GARCHING\"]/I_10KPC[\"LIVERMORE\"])\n",
    "gkvm_dists = np.array(dists_2) * np.sqrt(I_10KPC[\"GKVM\"]/I_10KPC[\"LIVERMORE\"])\n",
    "\n",
    "plt.scatter(dists_3, all_te_3, s=10, c=\"purple\")\n",
    "plt.scatter(gar_dists, all_te_4, s=10, c=\"orange\")\n",
    "plt.scatter(gkvm_dists, all_te_2, s=10, c=\"green\")\n",
    "\n",
    "fl = interp1d(dists_3, all_te_3, kind='cubic')\n",
    "fg = interp1d(gar_dists, all_te_4, kind='cubic')\n",
    "fgk = interp1d(gkvm_dists, all_te_2, kind='cubic')\n",
    "\n",
    "plt.plot(dists_3, fl(dists_3), c=\"purple\", label=\"FTR: 1/month, Livermore\")\n",
    "plt.plot(gar_dists, fg(gar_dists), c=\"orange\", label=\"FTR: 1/month, Garching\")\n",
    "plt.plot(gkvm_dists, fgk(gkvm_dists), c=\"green\", label=\"FTR: 1/month, GKVM\")\n",
    "\n",
    "plt.xlabel(\"Distance (kpc)\")\n",
    "plt.ylabel(\"Trigger efficiency\")\n",
    "plt.xlim(0, 30)\n",
    "plt.legend()\n",
    "print(fgk(18.6))"
   ]
  },
  {
   "cell_type": "code",
   "execution_count": 23,
   "id": "76186e3f",
   "metadata": {},
   "outputs": [
    {
     "data": {
      "application/vnd.jupyter.widget-view+json": {
       "model_id": "082afbccd35943db886e31d12fb5e045",
       "version_major": 2,
       "version_minor": 0
      },
      "text/plain": [
       "Canvas(toolbar=Toolbar(toolitems=[('Home', 'Reset original view', 'home', 'home'), ('Back', 'Back to previous …"
      ]
     },
     "metadata": {},
     "output_type": "display_data"
    },
    {
     "name": "stdout",
     "output_type": "stream",
     "text": [
      "0.2330298912577523\n"
     ]
    }
   ],
   "source": [
    "%matplotlib widget\n",
    "plt.figure()\n",
    "gkvm_dists_LA = np.array(dists_2LA) * np.sqrt(I_10KPC[\"GKVM\"]/I_10KPC[\"LIVERMORE\"])\n",
    "\n",
    "plt.scatter(gkvm_dists, all_te_2, s=10, c=\"orange\")\n",
    "plt.scatter(gkvm_dists_LA, all_te_2LA, s=10, c=\"green\")\n",
    "\n",
    "fgk = interp1d(gkvm_dists, all_te_2, kind='cubic')\n",
    "fgkLA = interp1d(gkvm_dists_LA, all_te_2LA, kind='cubic')\n",
    "\n",
    "plt.plot(gkvm_dists, fgk(gkvm_dists), c=\"orange\", label=\"FTR: 1/month, GKVM\")\n",
    "plt.plot(gkvm_dists_LA, fgkLA(gkvm_dists_LA), c=\"green\", label=\"FTR: 1/month, GKVM, low ADC\")\n",
    "\n",
    "plt.xlabel(\"Distance (kpc)\")\n",
    "plt.ylabel(\"Trigger efficiency\")\n",
    "plt.xlim(0, 30)\n",
    "plt.legend()\n",
    "print(fgk(18.6))"
   ]
  },
  {
   "cell_type": "code",
   "execution_count": 19,
   "id": "ef0de923",
   "metadata": {},
   "outputs": [
    {
     "data": {
      "application/vnd.jupyter.widget-view+json": {
       "model_id": "58e21f12f545446b9ded92fe1cbe9358",
       "version_major": 2,
       "version_minor": 0
      },
      "text/plain": [
       "Canvas(toolbar=Toolbar(toolitems=[('Home', 'Reset original view', 'home', 'home'), ('Back', 'Back to previous …"
      ]
     },
     "metadata": {},
     "output_type": "display_data"
    },
    {
     "name": "stdout",
     "output_type": "stream",
     "text": [
      "-1.9692721242741884e-06\n"
     ]
    }
   ],
   "source": [
    "%matplotlib widget\n",
    "plt.figure()\n",
    "\n",
    "liv_dists_LA = np.array(dists_3LA) * 1.0\n",
    "\n",
    "plt.scatter(dists_3, all_te_3, s=10, c=\"orange\")\n",
    "plt.scatter(liv_dists_LA, all_te_3LA, s=10, c=\"green\")\n",
    "\n",
    "fgk = interp1d(dists_3, all_te_3, kind='cubic')\n",
    "fgkLA = interp1d(liv_dists_LA, all_te_3LA, kind='cubic')\n",
    "\n",
    "plt.plot(dists_3, fgk(dists_3), c=\"orange\", label=\"FTR: 1/month, Livermore\")\n",
    "plt.plot(liv_dists_LA, fgkLA(liv_dists_LA), c=\"green\", label=\"FTR: 1/month, Livermore, low ADC\")\n",
    "\n",
    "plt.xlabel(\"Distance (kpc)\")\n",
    "plt.ylabel(\"Trigger efficiency\")\n",
    "plt.xlim(0, 30)\n",
    "plt.legend()\n",
    "print(fgk(18.6))"
   ]
  },
  {
   "cell_type": "code",
   "execution_count": 36,
   "id": "b5e2f513",
   "metadata": {},
   "outputs": [],
   "source": [
    "def fit_func(x, a, b, c):\n",
    "    return 1 - a * (np.tanh(b*x + c) * 0.5 + 0.5) \n",
    "\n",
    "popt, pcov = curve_fit(fit_func, dists, all_te)"
   ]
  },
  {
   "cell_type": "code",
   "execution_count": 37,
   "id": "e8c8a4eb",
   "metadata": {},
   "outputs": [],
   "source": [
    "popt\n",
    "dists = np.array(dists)"
   ]
  },
  {
   "cell_type": "code",
   "execution_count": 27,
   "id": "f56c4fa8",
   "metadata": {},
   "outputs": [
    {
     "data": {
      "application/vnd.jupyter.widget-view+json": {
       "model_id": "c32fb10b356547cbad7aec386db76f46",
       "version_major": 2,
       "version_minor": 0
      },
      "text/plain": [
       "Canvas(toolbar=Toolbar(toolitems=[('Home', 'Reset original view', 'home', 'home'), ('Back', 'Back to previous …"
      ]
     },
     "metadata": {},
     "output_type": "display_data"
    },
    {
     "ename": "NameError",
     "evalue": "name 'dists' is not defined",
     "output_type": "error",
     "traceback": [
      "\u001b[0;31m---------------------------------------------------------------------------\u001b[0m",
      "\u001b[0;31mNameError\u001b[0m                                 Traceback (most recent call last)",
      "\u001b[0;32m/tmp/ipykernel_520/3918402241.py\u001b[0m in \u001b[0;36m<module>\u001b[0;34m\u001b[0m\n\u001b[1;32m      1\u001b[0m \u001b[0mplt\u001b[0m\u001b[0;34m.\u001b[0m\u001b[0mfigure\u001b[0m\u001b[0;34m(\u001b[0m\u001b[0;34m)\u001b[0m\u001b[0;34m\u001b[0m\u001b[0;34m\u001b[0m\u001b[0m\n\u001b[0;32m----> 2\u001b[0;31m \u001b[0mplt\u001b[0m\u001b[0;34m.\u001b[0m\u001b[0mplot\u001b[0m\u001b[0;34m(\u001b[0m\u001b[0mdists\u001b[0m\u001b[0;34m,\u001b[0m \u001b[0mfit_func\u001b[0m\u001b[0;34m(\u001b[0m\u001b[0mdists\u001b[0m\u001b[0;34m,\u001b[0m \u001b[0;34m*\u001b[0m\u001b[0mpopt\u001b[0m\u001b[0;34m)\u001b[0m\u001b[0;34m)\u001b[0m\u001b[0;34m\u001b[0m\u001b[0;34m\u001b[0m\u001b[0m\n\u001b[0m\u001b[1;32m      3\u001b[0m \u001b[0mplt\u001b[0m\u001b[0;34m.\u001b[0m\u001b[0mplot\u001b[0m\u001b[0;34m(\u001b[0m\u001b[0mdists\u001b[0m\u001b[0;34m,\u001b[0m \u001b[0mall_te\u001b[0m\u001b[0;34m)\u001b[0m\u001b[0;34m\u001b[0m\u001b[0;34m\u001b[0m\u001b[0m\n",
      "\u001b[0;31mNameError\u001b[0m: name 'dists' is not defined"
     ]
    }
   ],
   "source": [
    "plt.figure()\n",
    "plt.plot(dists, fit_func(dists, *popt))\n",
    "plt.plot(dists, all_te)"
   ]
  },
  {
   "cell_type": "code",
   "execution_count": 8,
   "id": "8e20ed28",
   "metadata": {},
   "outputs": [
    {
     "data": {
      "application/vnd.jupyter.widget-view+json": {
       "model_id": "cd7d68af5204422d8afcc8d712a68472",
       "version_major": 2,
       "version_minor": 0
      },
      "text/plain": [
       "Canvas(toolbar=Toolbar(toolitems=[('Home', 'Reset original view', 'home', 'home'), ('Back', 'Back to previous …"
      ]
     },
     "metadata": {},
     "output_type": "display_data"
    },
    {
     "data": {
      "text/plain": [
       "Text(0.5, 0, 'Number of BG hits per ms')"
      ]
     },
     "execution_count": 8,
     "metadata": {},
     "output_type": "execute_result"
    }
   ],
   "source": [
    "plt.figure()\n",
    "poiss = stats.poisson.rvs(1311.7, size=1000)\n",
    "ph = plt.hist(poiss, bins=20, density=True)\n",
    "plt.xlabel(\"Number of BG hits per ms\")"
   ]
  },
  {
   "cell_type": "code",
   "execution_count": null,
   "id": "4f0f4b72",
   "metadata": {},
   "outputs": [],
   "source": []
  }
 ],
 "metadata": {
  "kernelspec": {
   "display_name": "Python 3",
   "language": "python",
   "name": "python3"
  },
  "language_info": {
   "codemirror_mode": {
    "name": "ipython",
    "version": 3
   },
   "file_extension": ".py",
   "mimetype": "text/x-python",
   "name": "python",
   "nbconvert_exporter": "python",
   "pygments_lexer": "ipython3",
   "version": "3.9.12"
  }
 },
 "nbformat": 4,
 "nbformat_minor": 5
}
