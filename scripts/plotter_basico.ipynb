{
 "cells": [
  {
   "cell_type": "code",
   "execution_count": 1,
   "id": "343cee20",
   "metadata": {},
   "outputs": [
    {
     "name": "stderr",
     "output_type": "stream",
     "text": [
      "/cvmfs/sft.cern.ch/lcg/views/LCG_100/x86_64-centos7-gcc8-opt/lib/python3.8/site-packages/statsmodels/tools/_testing.py:19: FutureWarning: pandas.util.testing is deprecated. Use the functions in the public API at pandas.testing instead.\n",
      "  import pandas.util.testing as tm\n"
     ]
    }
   ],
   "source": [
    "# This will improve in the future so plotting is accessible to all!\n",
    "\n",
    "import numpy as np\n",
    "import matplotlib.pyplot as plt\n",
    "import pickle\n",
    "from scipy.optimize import curve_fit\n",
    "from scipy import stats\n",
    "from scipy.interpolate import interp1d\n",
    "\n",
    "import seaborn as sns\n",
    "from ipywidgets import *\n",
    "# Apply the default theme\n",
    "#sns.set_theme(palette='bright')\n",
    "# Set white background\n",
    "sns.set_style(\"whitegrid\")\n",
    "\n",
    "from parameters import *\n",
    "import save_n_load as sl\n",
    "\n",
    "I_10KPC = {\"LIVERMORE\": 2684, \"GKVM\": 3295, \"GARCHING\": 882} # Number of expected events at 10 kpc for a 40 kton LArTPC"
   ]
  },
  {
   "cell_type": "code",
   "execution_count": 2,
   "id": "6adb7b7b",
   "metadata": {},
   "outputs": [],
   "source": [
    "# Parameters to get the desired curve(s) (feel free to change them to anything you have already computed)\n",
    "fake_trigger_rate = FAKE_TRIGGER_RATE\n",
    "burst_time_window = BURST_TIME_WINDOW\n",
    "distance_to_optimize = DISTANCE_TO_OPTIMIZE\n",
    "sim_mode = SIM_MODE\n",
    "adc_mode = ADC_MODE\n",
    "detector = DETECTOR\n",
    "classify = CLASSIFY\n",
    "average_energy = AVERAGE_ENERGY\n",
    "alpha = ALPHA\n",
    "\n",
    "sim_parameters = [fake_trigger_rate, burst_time_window, distance_to_optimize, sim_mode, adc_mode, detector, classify, average_energy, alpha]\n",
    "file_name = None"
   ]
  },
  {
   "cell_type": "code",
   "execution_count": null,
   "id": "548a51fd",
   "metadata": {},
   "outputs": [],
   "source": [
    "# Or just specify the filename(s)\n",
    "sim_parameters = []\n",
    "file_name = \"wahtevs.pcl\""
   ]
  },
  {
   "cell_type": "code",
   "execution_count": 3,
   "id": "7e04664b",
   "metadata": {
    "scrolled": false
   },
   "outputs": [
    {
     "name": "stdout",
     "output_type": "stream",
     "text": [
      "Loaded efficiency data from file efficiency_data_NWS1CH0N.pcl\n",
      "(0.19, 0.11, 260, 25000, 20000, 30000, 20.01, 0.95) 9 1.0\n",
      "Loaded efficiency curve from file efficiency_curve_5PEYTOIN.pcl\n"
     ]
    },
    {
     "data": {
      "application/vnd.jupyter.widget-view+json": {
       "model_id": "4c993159049546d4b8d36db375719643",
       "version_major": 2,
       "version_minor": 0
      },
      "text/plain": [
       "Canvas(toolbar=Toolbar(toolitems=[('Home', 'Reset original view', 'home', 'home'), ('Back', 'Back to previous …"
      ]
     },
     "metadata": {},
     "output_type": "display_data"
    },
    {
     "name": "stdout",
     "output_type": "stream",
     "text": [
      "EFF at 10 kpc: 1.0\n",
      "EFF at 15 kpc: 1.0\n",
      "EFF at 20 kpc: 1.0\n",
      "95% thresh at: 28.55951983994665\n",
      "Loaded efficiency data from file efficiency_data_4XKKIU2S.pcl\n",
      "(0.17, 0.11, 270, 25000, 20000, 30000, 20.01, 0.97) 10 0.52\n",
      "Loaded efficiency curve from file efficiency_curve_LNHM4C8D.pcl\n",
      "EFF at 10 kpc: 1.0\n",
      "EFF at 15 kpc: 0.9541666666666666\n",
      "EFF at 20 kpc: 0.49166666666666664\n",
      "95% thresh at: 16.123374458152718\n",
      "Loaded efficiency data from file efficiency_data_4XKKIU2S.pcl\n",
      "(0.17, 0.11, 270, 25000, 20000, 30000, 20.01, 0.97) 10 0.52\n",
      "Loaded efficiency curve from file efficiency_curve_LNHM4C8D.pcl\n",
      "EFF at 10 kpc: 0.7584266962271284\n",
      "EFF at 15 kpc: 0.06694475136132988\n",
      "EFF at 20 kpc: 0.0060185425904311\n",
      "95% thresh at: 9.24108036012004\n"
     ]
    },
    {
     "data": {
      "text/plain": [
       "<matplotlib.legend.Legend at 0x7fae30945f10>"
      ]
     },
     "execution_count": 3,
     "metadata": {},
     "output_type": "execute_result"
    }
   ],
   "source": [
    "%matplotlib widget\n",
    "# Load the curves\n",
    "\n",
    "sim_parameters_list = []\n",
    "models = [\"GKVM\", \"LIVERMORE\", \"GARCHING\"]\n",
    "energies = [23.0, 14.4, 14.4]\n",
    "alphas = [5.0, 2.8, 2.8]\n",
    "dtos = [20, 20, 20]\n",
    "dtos = [20.01, 20.01, 20.01]\n",
    "\n",
    "for i, model in enumerate(models):\n",
    "    sim_parameters_list.append([fake_trigger_rate, burst_time_window, dtos[i], sim_mode, adc_mode, detector, classify, energies[i], alphas[i]])\n",
    "\n",
    "for i, simp in enumerate(sim_parameters_list):\n",
    "    \n",
    "    eff_data, _ = sl.load_efficiency_data(simp, file_name, data_type=\"data\")\n",
    "    \n",
    "    print(eff_data[1], eff_data[2], eff_data[0])\n",
    "    \n",
    "    eff_curve_data, _ = sl.load_efficiency_data(simp, file_name, data_type=\"curve\")\n",
    "    distances = eff_curve_data[0]\n",
    "    efficiencies = eff_curve_data[1]\n",
    "\n",
    "    # All efficiency curves are calculated with the Livermore event number normalization. \n",
    "    # This is not a problem, we can normalize to whatever we want now.\n",
    "    # For example:\n",
    "    norm = I_10KPC[models[i]]\n",
    "    gkvm_distances = np.array(distances) * np.sqrt(norm/I_10KPC[\"LIVERMORE\"])\n",
    "\n",
    "    plt.plot(gkvm_distances, efficiencies, label=models[i])\n",
    "    plt.scatter(gkvm_distances, efficiencies, s=14)\n",
    "    \n",
    "    # Get the value of the curve at a given distance\n",
    "    linear_interp = interp1d(gkvm_distances, efficiencies, kind='linear')\n",
    "    print(\"EFF at 10 kpc:\", linear_interp(10))\n",
    "    print(\"EFF at 15 kpc:\", linear_interp(15))\n",
    "    print(\"EFF at 20 kpc:\", linear_interp(20))\n",
    "    \n",
    "    # Get the 90% threshold\n",
    "    interval = np.linspace(6, 30, 3000)\n",
    "    diff = np.diff(interval)[0]\n",
    "    for x in interval:\n",
    "        if linear_interp(x) < 0.90 and linear_interp(x-diff) > 0.90:\n",
    "            print(\"95% thresh at:\", x)\n",
    "            break\n",
    "\n",
    "plt.xlabel(\"Distance (kpc)\")\n",
    "plt.ylabel(\"Trigger efficiency\")\n",
    "plt.legend()"
   ]
  },
  {
   "cell_type": "markdown",
   "id": "d40b3163",
   "metadata": {},
   "source": [
    "## Pinched fluxes\n",
    "$\\phi\\left(E_{\\nu}\\right)=\\mathcal{N}\\left(\\frac{E_{\\nu}}{\\left\\langle E_{\\nu}\\right\\rangle}\\right)^{\\alpha} \\exp \\left[-(\\alpha+1) \\frac{E_{\\nu}}{\\left\\langle E_{\\nu}\\right\\rangle}\\right]$"
   ]
  },
  {
   "cell_type": "code",
   "execution_count": 4,
   "id": "b2856068",
   "metadata": {},
   "outputs": [
    {
     "data": {
      "application/vnd.jupyter.widget-view+json": {
       "model_id": "",
       "version_major": 2,
       "version_minor": 0
      },
      "text/plain": [
       "Canvas(toolbar=Toolbar(toolitems=[('Home', 'Reset original view', 'home', 'home'), ('Back', 'Back to previous …"
      ]
     },
     "metadata": {},
     "output_type": "display_data"
    },
    {
     "data": {
      "application/vnd.jupyter.widget-view+json": {
       "model_id": "67d7352676984202a613cfd22ca50565",
       "version_major": 2,
       "version_minor": 0
      },
      "text/plain": [
       "interactive(children=(FloatSlider(value=3.0, description='alpha', max=10.0), FloatSlider(value=10.0, descripti…"
      ]
     },
     "metadata": {},
     "output_type": "display_data"
    }
   ],
   "source": [
    "%matplotlib widget\n",
    "xsec_sg_path = \"./aux_pickles/xscns/\"\n",
    "marley_1 = np.genfromtxt(xsec_sg_path + \"xs_nue_Ar40.dat\", skip_footer=0)\n",
    "sng = np.genfromtxt(xsec_sg_path + \"xs_nue_Ar40_marley2.dat\", skip_footer=0)\n",
    "\n",
    "log_e, xsec = marley_1[:, 0], marley_1[:, 1]\n",
    "log_e_sg, xsec_sg = sng[:, 0], sng[:, 1]\n",
    "e = 10**log_e * 1000\n",
    "e_sg = 10**log_e_sg\n",
    "\n",
    "def pinched_spectrum(energies, average_e, alpha):\n",
    "    spectrum = (energies/average_e)**alpha * np.exp(- (alpha + 1) * energies/average_e)\n",
    "    norm = np.sum(spectrum * np.diff(energies)[0])\n",
    "    return spectrum/norm\n",
    "\n",
    "energies_p = np.arange(0, 100, 0.2)\n",
    "\n",
    "fig, ax = plt.subplots(1, 2, figsize=(12, 5))\n",
    "fig.suptitle(\"Pinched parametrization\")\n",
    "\n",
    "line_0, = ax[0].plot(energies_p, pinched_spectrum(energies_p, 3, 10))\n",
    "ax[0].set_ylim(top=0.15)\n",
    "ax[0].set_xlim(right=80)\n",
    "ax[0].set_title(\"Emmited spectrum\")\n",
    "\n",
    "#plt.plot(flux_e, flux_spec/flux_norm)\n",
    "\n",
    "# --------------------------------------------------------------------------------\n",
    "\n",
    "xsec_interp = np.interp(energies_p, e, xsec)\n",
    "interacted_spectrum = pinched_spectrum(energies_p, 3, 10) * xsec_interp\n",
    "norm = np.sum(interacted_spectrum * np.diff(energies_p)[0])\n",
    "line_1, = ax[1].plot(energies_p, interacted_spectrum / norm)\n",
    "\n",
    "ax[1].set_ylim(top=0.15)\n",
    "ax[1].set_xlim(right=80)\n",
    "ax[1].set_title(\"Interacted spectrum\")\n",
    "#ax[1].plot(sg_pinched_energies, sg_pinched_spectrum/sg_pinched_norm, label=\"GKVM SNOwGLoBES\")\n",
    "\n",
    "def update_2(alpha = 3.0, average_e = 10.0):\n",
    "    line_0.set_ydata(pinched_spectrum(energies_p, average_e, alpha))\n",
    "    fig.canvas.draw_idle()\n",
    "\n",
    "    interacted_spectrum = pinched_spectrum(energies_p, average_e, alpha) * xsec_interp\n",
    "    norm = np.sum(interacted_spectrum * np.diff(energies_p)[0])\n",
    "    line_1.set_ydata(interacted_spectrum / norm)\n",
    "    fig.canvas.draw_idle()\n",
    "interact(update_2, alpha=(0.0, 10.0, 0.1), average_e=(0.1, 40.0, 0.1));"
   ]
  },
  {
   "cell_type": "markdown",
   "id": "54e072ab",
   "metadata": {},
   "source": [
    "## Distance to event number (and viceversa)"
   ]
  },
  {
   "cell_type": "code",
   "execution_count": 13,
   "id": "785d6ffe",
   "metadata": {},
   "outputs": [
    {
     "name": "stdout",
     "output_type": "stream",
     "text": [
      "60.0\n"
     ]
    }
   ],
   "source": [
    "import aux\n",
    "\n",
    "distance = 21\n",
    "model = \"GARCHING\"\n",
    "event_num = aux.distance_to_event_number(distance, model, tpc_size=12)\n",
    "\n",
    "print(event_num)"
   ]
  },
  {
   "cell_type": "code",
   "execution_count": 12,
   "id": "3d308b26",
   "metadata": {},
   "outputs": [
    {
     "name": "stdout",
     "output_type": "stream",
     "text": [
      "21.0\n"
     ]
    }
   ],
   "source": [
    "event_num = 60\n",
    "model = \"GARCHING\"\n",
    "distance = aux.event_number_to_distance(event_num, model, tpc_size=12)\n",
    "\n",
    "print(distance)"
   ]
  },
  {
   "cell_type": "code",
   "execution_count": 16,
   "id": "e25d45ba",
   "metadata": {},
   "outputs": [
    {
     "name": "stdout",
     "output_type": "stream",
     "text": [
      "[31 23 36 30 24 20 36 30 33 24]\n"
     ]
    }
   ],
   "source": [
    "from scipy import stats\n",
    "\n",
    "r = stats.poisson.rvs(30, size=10)\n",
    "print(r)"
   ]
  },
  {
   "cell_type": "code",
   "execution_count": null,
   "id": "a4cb0bdb",
   "metadata": {},
   "outputs": [],
   "source": []
  }
 ],
 "metadata": {
  "kernelspec": {
   "display_name": "Python 3",
   "language": "python",
   "name": "python3"
  },
  "language_info": {
   "codemirror_mode": {
    "name": "ipython",
    "version": 3
   },
   "file_extension": ".py",
   "mimetype": "text/x-python",
   "name": "python",
   "nbconvert_exporter": "python",
   "pygments_lexer": "ipython3",
   "version": "3.8.6"
  },
  "vscode": {
   "interpreter": {
    "hash": "0e8504f832196e4f7948df45edfea5bb8ac2f766f5c282ff439b08578c1a8ec5"
   }
  }
 },
 "nbformat": 4,
 "nbformat_minor": 5
}
